{
 "cells": [
  {
   "cell_type": "code",
   "execution_count": 1,
   "metadata": {},
   "outputs": [
    {
     "name": "stderr",
     "output_type": "stream",
     "text": [
      "2024-10-19 20:38:06.556112: I tensorflow/core/util/port.cc:153] oneDNN custom operations are on. You may see slightly different numerical results due to floating-point round-off errors from different computation orders. To turn them off, set the environment variable `TF_ENABLE_ONEDNN_OPTS=0`.\n",
      "2024-10-19 20:38:07.189585: E external/local_xla/xla/stream_executor/cuda/cuda_fft.cc:485] Unable to register cuFFT factory: Attempting to register factory for plugin cuFFT when one has already been registered\n",
      "2024-10-19 20:38:07.414784: E external/local_xla/xla/stream_executor/cuda/cuda_dnn.cc:8454] Unable to register cuDNN factory: Attempting to register factory for plugin cuDNN when one has already been registered\n",
      "2024-10-19 20:38:07.482187: E external/local_xla/xla/stream_executor/cuda/cuda_blas.cc:1452] Unable to register cuBLAS factory: Attempting to register factory for plugin cuBLAS when one has already been registered\n",
      "2024-10-19 20:38:07.948786: I tensorflow/core/platform/cpu_feature_guard.cc:210] This TensorFlow binary is optimized to use available CPU instructions in performance-critical operations.\n",
      "To enable the following instructions: AVX2 AVX512F AVX512_VNNI FMA, in other operations, rebuild TensorFlow with the appropriate compiler flags.\n",
      "2024-10-19 20:38:10.186283: W tensorflow/compiler/tf2tensorrt/utils/py_utils.cc:38] TF-TRT Warning: Could not find TensorRT\n"
     ]
    }
   ],
   "source": [
    "import pandas\n",
    "import matplotlib.pyplot as plt\n",
    "import os\n",
    "import re\n",
    "import shutil\n",
    "import string\n",
    "import tensorflow as tf\n",
    "\n",
    "from tensorflow.keras import layers\n",
    "from tensorflow.keras import losses\n",
    "\n",
    "wf = pandas.read_csv(\"/home/yash/Downloads/EMPOLITICON.csv\")"
   ]
  },
  {
   "cell_type": "code",
   "execution_count": 2,
   "metadata": {},
   "outputs": [],
   "source": [
    "wf = wf.head(739)"
   ]
  },
  {
   "cell_type": "code",
   "execution_count": 18,
   "metadata": {},
   "outputs": [
    {
     "data": {
      "text/plain": [
       "'Members of the State Duma, friends,\\n\\nIt gives me great pleasure to welcome you and congratulate you on the opening of the seventh convocation of the State Duma.\\n\\nToday in this hall, we have representatives of all the 85 Russian regions, including those elected in Crimea and Sevastopol.\\n\\nOur citizens have entrusted you with the distinguished title of a Parliament Member. The election campaign was transparent and the competition was honest. The results demonstrate the will and choice of Russian society. I see a guarantee of the legislative branch’s strength and authority in the absolute legitimacy of the parliament.\\n\\nThe role of the State Duma as a representative body has significantly increased. Half of the mandates were given to candidates directly elected by residents of specific areas, districts and regions.\\n\\nOverall, the composition of the State Duma has changed markedly. Representatives of public, professional and local organisations have joined it. I believe that as a result, Parliament will be receiving more efficient feedback from the voters, the civil society and the regions, which means a better quality of legislative work.\\n\\nI also expect that the State Duma will be cooperating more closely with everybody who has the right to legislative initiative, including regional parliaments, and will frequently practice preliminary readings and public hearings, including with participation of the parties not sitting in Parliament.\\n\\nI would like to stress that effective laws are not only a result of impeccable legal work, which is, of course, very important. The parliament’s decisions must be based on civil accord. Therefore, the State Duma must become a regular platform for an extensive public and political dialogue.\\n\\nColleagues,\\n\\nDuring the election campaign, people expressed a demand for substantial social and economic changes. There is intensive and important work ahead for you as legislators and you must start immediately.\\n\\nYou can always count on the President’s support, on my support and on the closest interaction with the Russian Government. The ability of the branches of power to efficiently work together has key importance for our common success.\\n\\nIn order to set the economy on a growth trajectory, we need to remove legislative obstacles that curb the competitiveness, investment flows and the introduction of cutting edge technologies, and to provide a balanced development of Russian regions, the northern and Far Eastern areas.\\n\\nDraft laws to support entrepreneurship and private initiative will be submitted to the State Duma. In particular, they will concern greater legislative protection of businesses from pressure by unscrupulous – unfortunately, they exist – employees of law enforcement agencies.\\n\\nI would like to direct your attention to the key issue. What is this issue? Of course, special attention should be paid to reaching objectives in education, healthcare, housing policy and the environment. That is, in areas that directly influence people’s wellbeing and social and demographic development.\\n\\nWe launch priority projects in order to concentrate our efforts and resources on solving the most pressing tasks in the economy and social sphere. I will ask you to promptly provide them with a legislative framework, and while working with the federal budget to make sure that the priority projects are financed in full.\\n\\nOf course, we must enhance the country’s security and defense capability, and defend its position on the global stage as well. I count on the political and legislative support of all the parliamentary parties.\\n\\nI also consider it important that the resources of parliamentary democracy are used in full to develop substantial international relations with all interested partners.\\n\\nFriends,\\n\\nRussian society expects thorough and professional work from you, a deep understanding of the importance of law, and willingness to fight for the interests of the state and the nation.\\n\\nI would like to address representatives of all the parliamentary parties. There have always been and will always be political disagreements. This is life, but the status of a people’s representative and the authority of the parliament, responsibility for the fate of the country and its citizens are above any personal or party ambitions.\\n\\nThis is how members of the sixth convocation worked in solidarity when making the most principled and, without exaggeration, life-changing decisions for Russia.\\n\\nIn the past years, the Russian Parliament has made a huge step in its development. It has become more professional and responsible. We have ensured an open and honest dialogue between various political forces.\\n\\nI would like to thank once again the former deputies and former Speaker, Sergei Naryshkin, for their productive and efficient work.\\n\\nI am confident that there will be continuity. I expect that the newly elected Deputies will improve on the best achievements of their predecessors and, of course, will preserve the historical legacy of the Russian parliamentary system.\\n\\nMore than a hundred years ago, Petr Stolypin said when addressing the State Duma, “We must bring together all our efforts, all our obligations and rights to support Russia’s historically supreme right to be strong.” Whether we cite these words or put them in a different form, we must always assume that any nation and any country have exactly the same right, to be strong.\\n\\nOne more thing. We never use the word “strength” to imply superpower ambitions. We can never impose anything on anybody. Russia’s strength is within us, within our people, our traditions and culture, our economy, our huge territory and natural resources. It is in our defence power, of course. However, most importantly, our strength is in the unity of our people.\\n\\nWe must always remember that all the components of Russia’s strength that I have just mentioned are the most important conditions for preserving our statehood, independence and existence as a shared home for all the peoples living here.\\n\\nI wish the State Duma members of the seventh convocation and the new Parliament leadership success in serving the Russian nation.\\n\\nThank you.'"
      ]
     },
     "execution_count": 18,
     "metadata": {},
     "output_type": "execute_result"
    }
   ],
   "source": [
    "wf.iloc[76]['Text_of_Speech']"
   ]
  }
 ],
 "metadata": {
  "kernelspec": {
   "display_name": "python_310",
   "language": "python",
   "name": "python3"
  },
  "language_info": {
   "codemirror_mode": {
    "name": "ipython",
    "version": 3
   },
   "file_extension": ".py",
   "mimetype": "text/x-python",
   "name": "python",
   "nbconvert_exporter": "python",
   "pygments_lexer": "ipython3",
   "version": "3.12.5"
  }
 },
 "nbformat": 4,
 "nbformat_minor": 2
}
